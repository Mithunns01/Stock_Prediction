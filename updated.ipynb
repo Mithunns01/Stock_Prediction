{
 "cells": [
  {
   "cell_type": "code",
   "execution_count": 2,
   "id": "f39e1bc3",
   "metadata": {},
   "outputs": [],
   "source": [
    "import pandas as pd\n",
    "import yfinance as yf\n",
    "from PIL import Image\n",
    "import requests\n",
    "import numpy as np\n",
    "from io import BytesIO\n",
    "import matplotlib.pyplot as plt\n",
    "from sklearn.preprocessing import  MinMaxScaler\n",
    "from keras.models import Sequential\n",
    "from keras.layers import Dense\n",
    "from keras.optimizers import Adam\n",
    "from keras.layers import LSTM,Bidirectional,Dense\n"
   ]
  },
  {
   "cell_type": "code",
   "execution_count": null,
   "id": "19fb4cbc",
   "metadata": {},
   "outputs": [],
   "source": []
  },
  {
   "cell_type": "code",
   "execution_count": 3,
   "id": "bca66612",
   "metadata": {
    "scrolled": true
   },
   "outputs": [
    {
     "name": "stdout",
     "output_type": "stream",
     "text": [
      "[*********************100%***********************]  1 of 1 completed\n"
     ]
    },
    {
     "data": {
      "text/html": [
       "<div>\n",
       "<style scoped>\n",
       "    .dataframe tbody tr th:only-of-type {\n",
       "        vertical-align: middle;\n",
       "    }\n",
       "\n",
       "    .dataframe tbody tr th {\n",
       "        vertical-align: top;\n",
       "    }\n",
       "\n",
       "    .dataframe thead th {\n",
       "        text-align: right;\n",
       "    }\n",
       "</style>\n",
       "<table border=\"1\" class=\"dataframe\">\n",
       "  <thead>\n",
       "    <tr style=\"text-align: right;\">\n",
       "      <th></th>\n",
       "      <th>Open</th>\n",
       "      <th>High</th>\n",
       "      <th>Low</th>\n",
       "      <th>Close</th>\n",
       "      <th>Adj Close</th>\n",
       "      <th>Volume</th>\n",
       "    </tr>\n",
       "    <tr>\n",
       "      <th>Date</th>\n",
       "      <th></th>\n",
       "      <th></th>\n",
       "      <th></th>\n",
       "      <th></th>\n",
       "      <th></th>\n",
       "      <th></th>\n",
       "    </tr>\n",
       "  </thead>\n",
       "  <tbody>\n",
       "    <tr>\n",
       "      <th>1980-12-12</th>\n",
       "      <td>0.128348</td>\n",
       "      <td>0.128906</td>\n",
       "      <td>0.128348</td>\n",
       "      <td>0.128348</td>\n",
       "      <td>0.099584</td>\n",
       "      <td>469033600</td>\n",
       "    </tr>\n",
       "    <tr>\n",
       "      <th>1980-12-15</th>\n",
       "      <td>0.122210</td>\n",
       "      <td>0.122210</td>\n",
       "      <td>0.121652</td>\n",
       "      <td>0.121652</td>\n",
       "      <td>0.094388</td>\n",
       "      <td>175884800</td>\n",
       "    </tr>\n",
       "    <tr>\n",
       "      <th>1980-12-16</th>\n",
       "      <td>0.113281</td>\n",
       "      <td>0.113281</td>\n",
       "      <td>0.112723</td>\n",
       "      <td>0.112723</td>\n",
       "      <td>0.087461</td>\n",
       "      <td>105728000</td>\n",
       "    </tr>\n",
       "    <tr>\n",
       "      <th>1980-12-17</th>\n",
       "      <td>0.115513</td>\n",
       "      <td>0.116071</td>\n",
       "      <td>0.115513</td>\n",
       "      <td>0.115513</td>\n",
       "      <td>0.089625</td>\n",
       "      <td>86441600</td>\n",
       "    </tr>\n",
       "    <tr>\n",
       "      <th>1980-12-18</th>\n",
       "      <td>0.118862</td>\n",
       "      <td>0.119420</td>\n",
       "      <td>0.118862</td>\n",
       "      <td>0.118862</td>\n",
       "      <td>0.092224</td>\n",
       "      <td>73449600</td>\n",
       "    </tr>\n",
       "    <tr>\n",
       "      <th>...</th>\n",
       "      <td>...</td>\n",
       "      <td>...</td>\n",
       "      <td>...</td>\n",
       "      <td>...</td>\n",
       "      <td>...</td>\n",
       "      <td>...</td>\n",
       "    </tr>\n",
       "    <tr>\n",
       "      <th>2023-05-17</th>\n",
       "      <td>171.710007</td>\n",
       "      <td>172.929993</td>\n",
       "      <td>170.419998</td>\n",
       "      <td>172.690002</td>\n",
       "      <td>172.690002</td>\n",
       "      <td>57951600</td>\n",
       "    </tr>\n",
       "    <tr>\n",
       "      <th>2023-05-18</th>\n",
       "      <td>173.000000</td>\n",
       "      <td>175.240005</td>\n",
       "      <td>172.580002</td>\n",
       "      <td>175.050003</td>\n",
       "      <td>175.050003</td>\n",
       "      <td>65496700</td>\n",
       "    </tr>\n",
       "    <tr>\n",
       "      <th>2023-05-19</th>\n",
       "      <td>176.389999</td>\n",
       "      <td>176.389999</td>\n",
       "      <td>174.940002</td>\n",
       "      <td>175.160004</td>\n",
       "      <td>175.160004</td>\n",
       "      <td>55772400</td>\n",
       "    </tr>\n",
       "    <tr>\n",
       "      <th>2023-05-22</th>\n",
       "      <td>173.979996</td>\n",
       "      <td>174.710007</td>\n",
       "      <td>173.449997</td>\n",
       "      <td>174.199997</td>\n",
       "      <td>174.199997</td>\n",
       "      <td>43570900</td>\n",
       "    </tr>\n",
       "    <tr>\n",
       "      <th>2023-05-23</th>\n",
       "      <td>173.130005</td>\n",
       "      <td>173.380005</td>\n",
       "      <td>171.279999</td>\n",
       "      <td>171.559998</td>\n",
       "      <td>171.559998</td>\n",
       "      <td>50697900</td>\n",
       "    </tr>\n",
       "  </tbody>\n",
       "</table>\n",
       "<p>10701 rows × 6 columns</p>\n",
       "</div>"
      ],
      "text/plain": [
       "                  Open        High         Low       Close   Adj Close   \n",
       "Date                                                                     \n",
       "1980-12-12    0.128348    0.128906    0.128348    0.128348    0.099584  \\\n",
       "1980-12-15    0.122210    0.122210    0.121652    0.121652    0.094388   \n",
       "1980-12-16    0.113281    0.113281    0.112723    0.112723    0.087461   \n",
       "1980-12-17    0.115513    0.116071    0.115513    0.115513    0.089625   \n",
       "1980-12-18    0.118862    0.119420    0.118862    0.118862    0.092224   \n",
       "...                ...         ...         ...         ...         ...   \n",
       "2023-05-17  171.710007  172.929993  170.419998  172.690002  172.690002   \n",
       "2023-05-18  173.000000  175.240005  172.580002  175.050003  175.050003   \n",
       "2023-05-19  176.389999  176.389999  174.940002  175.160004  175.160004   \n",
       "2023-05-22  173.979996  174.710007  173.449997  174.199997  174.199997   \n",
       "2023-05-23  173.130005  173.380005  171.279999  171.559998  171.559998   \n",
       "\n",
       "               Volume  \n",
       "Date                   \n",
       "1980-12-12  469033600  \n",
       "1980-12-15  175884800  \n",
       "1980-12-16  105728000  \n",
       "1980-12-17   86441600  \n",
       "1980-12-18   73449600  \n",
       "...               ...  \n",
       "2023-05-17   57951600  \n",
       "2023-05-18   65496700  \n",
       "2023-05-19   55772400  \n",
       "2023-05-22   43570900  \n",
       "2023-05-23   50697900  \n",
       "\n",
       "[10701 rows x 6 columns]"
      ]
     },
     "execution_count": 3,
     "metadata": {},
     "output_type": "execute_result"
    }
   ],
   "source": [
    "StockData= yf.download('AAPL',period=\"max\",interval=\"1d\")\n",
    "StockData"
   ]
  },
  {
   "cell_type": "code",
   "execution_count": 4,
   "id": "b0f6f361",
   "metadata": {},
   "outputs": [
    {
     "data": {
      "text/plain": [
       "Date\n",
       "1980-12-12          NaN\n",
       "1980-12-15          NaN\n",
       "1980-12-16          NaN\n",
       "1980-12-17          NaN\n",
       "1980-12-18          NaN\n",
       "                ...    \n",
       "2023-05-17    152.02135\n",
       "2023-05-18    152.09655\n",
       "2023-05-19    152.14170\n",
       "2023-05-22    152.18365\n",
       "2023-05-23    152.21470\n",
       "Name: Close, Length: 10701, dtype: float64"
      ]
     },
     "execution_count": 4,
     "metadata": {},
     "output_type": "execute_result"
    }
   ],
   "source": [
    "ma_100=StockData.Close.rolling(100).mean()\n",
    "ma_200=StockData.Close.rolling(200).mean()\n",
    "ma_200"
   ]
  },
  {
   "cell_type": "code",
   "execution_count": 5,
   "id": "353c7efb",
   "metadata": {
    "scrolled": true
   },
   "outputs": [
    {
     "data": {
      "text/html": [
       "<div>\n",
       "<style scoped>\n",
       "    .dataframe tbody tr th:only-of-type {\n",
       "        vertical-align: middle;\n",
       "    }\n",
       "\n",
       "    .dataframe tbody tr th {\n",
       "        vertical-align: top;\n",
       "    }\n",
       "\n",
       "    .dataframe thead th {\n",
       "        text-align: right;\n",
       "    }\n",
       "</style>\n",
       "<table border=\"1\" class=\"dataframe\">\n",
       "  <thead>\n",
       "    <tr style=\"text-align: right;\">\n",
       "      <th></th>\n",
       "      <th>Open</th>\n",
       "      <th>High</th>\n",
       "      <th>Low</th>\n",
       "      <th>Close</th>\n",
       "      <th>Adj Close</th>\n",
       "      <th>Volume</th>\n",
       "    </tr>\n",
       "    <tr>\n",
       "      <th>Date</th>\n",
       "      <th></th>\n",
       "      <th></th>\n",
       "      <th></th>\n",
       "      <th></th>\n",
       "      <th></th>\n",
       "      <th></th>\n",
       "    </tr>\n",
       "  </thead>\n",
       "  <tbody>\n",
       "    <tr>\n",
       "      <th>1980-12-12</th>\n",
       "      <td>0.128348</td>\n",
       "      <td>0.128906</td>\n",
       "      <td>0.128348</td>\n",
       "      <td>0.128348</td>\n",
       "      <td>0.099584</td>\n",
       "      <td>469033600</td>\n",
       "    </tr>\n",
       "    <tr>\n",
       "      <th>1980-12-15</th>\n",
       "      <td>0.122210</td>\n",
       "      <td>0.122210</td>\n",
       "      <td>0.121652</td>\n",
       "      <td>0.121652</td>\n",
       "      <td>0.094388</td>\n",
       "      <td>175884800</td>\n",
       "    </tr>\n",
       "    <tr>\n",
       "      <th>1980-12-16</th>\n",
       "      <td>0.113281</td>\n",
       "      <td>0.113281</td>\n",
       "      <td>0.112723</td>\n",
       "      <td>0.112723</td>\n",
       "      <td>0.087461</td>\n",
       "      <td>105728000</td>\n",
       "    </tr>\n",
       "    <tr>\n",
       "      <th>1980-12-17</th>\n",
       "      <td>0.115513</td>\n",
       "      <td>0.116071</td>\n",
       "      <td>0.115513</td>\n",
       "      <td>0.115513</td>\n",
       "      <td>0.089625</td>\n",
       "      <td>86441600</td>\n",
       "    </tr>\n",
       "    <tr>\n",
       "      <th>1980-12-18</th>\n",
       "      <td>0.118862</td>\n",
       "      <td>0.119420</td>\n",
       "      <td>0.118862</td>\n",
       "      <td>0.118862</td>\n",
       "      <td>0.092224</td>\n",
       "      <td>73449600</td>\n",
       "    </tr>\n",
       "    <tr>\n",
       "      <th>...</th>\n",
       "      <td>...</td>\n",
       "      <td>...</td>\n",
       "      <td>...</td>\n",
       "      <td>...</td>\n",
       "      <td>...</td>\n",
       "      <td>...</td>\n",
       "    </tr>\n",
       "    <tr>\n",
       "      <th>2023-05-17</th>\n",
       "      <td>171.710007</td>\n",
       "      <td>172.929993</td>\n",
       "      <td>170.419998</td>\n",
       "      <td>172.690002</td>\n",
       "      <td>172.690002</td>\n",
       "      <td>57951600</td>\n",
       "    </tr>\n",
       "    <tr>\n",
       "      <th>2023-05-18</th>\n",
       "      <td>173.000000</td>\n",
       "      <td>175.240005</td>\n",
       "      <td>172.580002</td>\n",
       "      <td>175.050003</td>\n",
       "      <td>175.050003</td>\n",
       "      <td>65496700</td>\n",
       "    </tr>\n",
       "    <tr>\n",
       "      <th>2023-05-19</th>\n",
       "      <td>176.389999</td>\n",
       "      <td>176.389999</td>\n",
       "      <td>174.940002</td>\n",
       "      <td>175.160004</td>\n",
       "      <td>175.160004</td>\n",
       "      <td>55772400</td>\n",
       "    </tr>\n",
       "    <tr>\n",
       "      <th>2023-05-22</th>\n",
       "      <td>173.979996</td>\n",
       "      <td>174.710007</td>\n",
       "      <td>173.449997</td>\n",
       "      <td>174.199997</td>\n",
       "      <td>174.199997</td>\n",
       "      <td>43570900</td>\n",
       "    </tr>\n",
       "    <tr>\n",
       "      <th>2023-05-23</th>\n",
       "      <td>173.130005</td>\n",
       "      <td>173.380005</td>\n",
       "      <td>171.279999</td>\n",
       "      <td>171.559998</td>\n",
       "      <td>171.559998</td>\n",
       "      <td>50697900</td>\n",
       "    </tr>\n",
       "  </tbody>\n",
       "</table>\n",
       "<p>10701 rows × 6 columns</p>\n",
       "</div>"
      ],
      "text/plain": [
       "                  Open        High         Low       Close   Adj Close   \n",
       "Date                                                                     \n",
       "1980-12-12    0.128348    0.128906    0.128348    0.128348    0.099584  \\\n",
       "1980-12-15    0.122210    0.122210    0.121652    0.121652    0.094388   \n",
       "1980-12-16    0.113281    0.113281    0.112723    0.112723    0.087461   \n",
       "1980-12-17    0.115513    0.116071    0.115513    0.115513    0.089625   \n",
       "1980-12-18    0.118862    0.119420    0.118862    0.118862    0.092224   \n",
       "...                ...         ...         ...         ...         ...   \n",
       "2023-05-17  171.710007  172.929993  170.419998  172.690002  172.690002   \n",
       "2023-05-18  173.000000  175.240005  172.580002  175.050003  175.050003   \n",
       "2023-05-19  176.389999  176.389999  174.940002  175.160004  175.160004   \n",
       "2023-05-22  173.979996  174.710007  173.449997  174.199997  174.199997   \n",
       "2023-05-23  173.130005  173.380005  171.279999  171.559998  171.559998   \n",
       "\n",
       "               Volume  \n",
       "Date                   \n",
       "1980-12-12  469033600  \n",
       "1980-12-15  175884800  \n",
       "1980-12-16  105728000  \n",
       "1980-12-17   86441600  \n",
       "1980-12-18   73449600  \n",
       "...               ...  \n",
       "2023-05-17   57951600  \n",
       "2023-05-18   65496700  \n",
       "2023-05-19   55772400  \n",
       "2023-05-22   43570900  \n",
       "2023-05-23   50697900  \n",
       "\n",
       "[10701 rows x 6 columns]"
      ]
     },
     "execution_count": 5,
     "metadata": {},
     "output_type": "execute_result"
    }
   ],
   "source": [
    "StockData"
   ]
  },
  {
   "cell_type": "code",
   "execution_count": 6,
   "id": "dc030b86",
   "metadata": {
    "scrolled": true
   },
   "outputs": [
    {
     "data": {
      "text/plain": [
       "[<matplotlib.lines.Line2D at 0x269b2159e40>]"
      ]
     },
     "execution_count": 6,
     "metadata": {},
     "output_type": "execute_result"
    },
    {
     "data": {
      "image/png": "[encoded data removed]",
      "text/plain": [
       "<Figure size 1200x600 with 1 Axes>"
      ]
     },
     "metadata": {},
     "output_type": "display_data"
    }
   ],
   "source": [
    "fig = plt.figure(figsize=(12,6))\n",
    "plt.title(\"Moving 200 days mean\")\n",
    "plt.plot(StockData.Close)\n",
    "plt.plot(ma_100,'r')\n",
    "plt.plot(ma_200,'g')"
   ]
  },
  {
   "cell_type": "code",
   "execution_count": 7,
   "id": "4053103c",
   "metadata": {},
   "outputs": [],
   "source": [
    "StockData['TradeDate']=StockData.index\n",
    "#StockData\n",
    "FullData=StockData[['Close']].values"
   ]
  },
  {
   "cell_type": "code",
   "execution_count": 8,
   "id": "c5a72fd1",
   "metadata": {},
   "outputs": [
    {
     "data": {
      "text/plain": [
       "array([[1.28347993e-01],\n",
       "       [1.21652000e-01],\n",
       "       [1.12723000e-01],\n",
       "       ...,\n",
       "       [1.75160004e+02],\n",
       "       [1.74199997e+02],\n",
       "       [1.71559998e+02]])"
      ]
     },
     "execution_count": 8,
     "metadata": {},
     "output_type": "execute_result"
    }
   ],
   "source": [
    "FullData"
   ]
  },
  {
   "cell_type": "code",
   "execution_count": 9,
   "id": "28393b56",
   "metadata": {},
   "outputs": [
    {
     "name": "stderr",
     "output_type": "stream",
     "text": [
      "C:\\Users\\Admin\\AppData\\Local\\Temp\\ipykernel_18320\\84736378.py:2: FutureWarning: elementwise comparison failed; returning scalar instead, but in the future will perform elementwise comparison\n",
      "  if FullData[i]=='nan':\n"
     ]
    }
   ],
   "source": [
    "for i in range(len(FullData)):\n",
    "    if FullData[i]=='nan':\n",
    "        imputer=KNNImputer(n_neighbours=4)\n",
    "        FullData[i]=imputer.fit_transform(FullData[i])"
   ]
  },
  {
   "cell_type": "code",
   "execution_count": 10,
   "id": "4c3e237f",
   "metadata": {},
   "outputs": [
    {
     "data": {
      "text/plain": [
       "(10701, 1)"
      ]
     },
     "execution_count": 10,
     "metadata": {},
     "output_type": "execute_result"
    }
   ],
   "source": [
    "FullData.shape"
   ]
  },
  {
   "cell_type": "code",
   "execution_count": 11,
   "id": "efd4be97",
   "metadata": {},
   "outputs": [
    {
     "name": "stdout",
     "output_type": "stream",
     "text": [
      "[[4.35483657e-04]\n",
      " [3.98684577e-04]\n",
      " [3.49613595e-04]\n",
      " ...\n",
      " [9.62354598e-01]\n",
      " [9.57078702e-01]\n",
      " [9.42570092e-01]]\n"
     ]
    },
    {
     "data": {
      "text/plain": [
       "(10701, 1)"
      ]
     },
     "execution_count": 11,
     "metadata": {},
     "output_type": "execute_result"
    }
   ],
   "source": [
    "sc=MinMaxScaler() \n",
    "DataScaler = sc.fit(FullData)\n",
    "X=DataScaler.transform(FullData)\n",
    "print(X)\n",
    "X.shape"
   ]
  },
  {
   "cell_type": "code",
   "execution_count": 12,
   "id": "4a2eafaf",
   "metadata": {},
   "outputs": [
    {
     "name": "stdout",
     "output_type": "stream",
     "text": [
      "10\n",
      "1\n",
      "10691\n",
      "10691\n"
     ]
    }
   ],
   "source": [
    "X_samples = list()\n",
    "y_samples = list()\n",
    " \n",
    "NumerOfRows = len(X)\n",
    "TimeSteps=10  \n",
    "for i in range(TimeSteps , NumerOfRows , 1):\n",
    "    x_sample = X[i-TimeSteps:i]\n",
    "    y_sample = X[i]\n",
    "    X_samples.append(x_sample)\n",
    "    y_samples.append(y_sample)\n",
    "\n",
    "print(len(x_sample))\n",
    "print(len(y_sample))\n",
    "print(len(X_samples))\n",
    "print(len(y_samples))"
   ]
  },
  {
   "cell_type": "code",
   "execution_count": 13,
   "id": "67a7aa05",
   "metadata": {},
   "outputs": [
    {
     "data": {
      "text/plain": [
       "5"
      ]
     },
     "execution_count": 13,
     "metadata": {},
     "output_type": "execute_result"
    }
   ],
   "source": [
    "TestingRecords=5\n",
    "TestingRecords"
   ]
  },
  {
   "cell_type": "code",
   "execution_count": 14,
   "id": "03536edd",
   "metadata": {},
   "outputs": [],
   "source": [
    "X_data=np.array(X_samples)\n",
    "\n",
    "X_data=X_data.reshape(X_data.shape[0],X_data.shape[1], 1)\n",
    "y_data=np.array(y_samples)\n",
    "y_data=y_data.reshape(y_data.shape[0], 1)"
   ]
  },
  {
   "cell_type": "code",
   "execution_count": 15,
   "id": "c1eb86c3",
   "metadata": {},
   "outputs": [
    {
     "data": {
      "text/plain": [
       "(10691, 1)"
      ]
     },
     "execution_count": 15,
     "metadata": {},
     "output_type": "execute_result"
    }
   ],
   "source": [
    "y_data.shape"
   ]
  },
  {
   "cell_type": "code",
   "execution_count": 16,
   "id": "865e06a0",
   "metadata": {},
   "outputs": [
    {
     "name": "stdout",
     "output_type": "stream",
     "text": [
      "10686\n",
      "5\n",
      "10686\n",
      "5\n"
     ]
    }
   ],
   "source": [
    "\n",
    "X_train=X_data[:-TestingRecords]\n",
    "X_test=X_data[-TestingRecords:]\n",
    "y_train=y_data[:-TestingRecords]\n",
    "y_test=y_data[-TestingRecords:]\n",
    "print(len(X_train))\n",
    "print(len(X_test))\n",
    "print(len(y_train))\n",
    "print(len(y_test))"
   ]
  },
  {
   "cell_type": "code",
   "execution_count": 17,
   "id": "5eec94e9",
   "metadata": {},
   "outputs": [
    {
     "name": "stdout",
     "output_type": "stream",
     "text": [
      "Epoch 1/100\n",
      "214/214 [==============================] - 5s 9ms/step - loss: 0.0047\n",
      "Epoch 2/100\n",
      "214/214 [==============================] - 2s 10ms/step - loss: 3.4400e-04\n",
      "Epoch 3/100\n",
      "214/214 [==============================] - 2s 9ms/step - loss: 1.9899e-04\n",
      "Epoch 4/100\n",
      "214/214 [==============================] - 2s 9ms/step - loss: 1.7602e-04\n",
      "Epoch 5/100\n",
      "214/214 [==============================] - 1s 7ms/step - loss: 1.6343e-04\n",
      "Epoch 6/100\n",
      "214/214 [==============================] - 2s 9ms/step - loss: 1.4717e-04\n",
      "Epoch 7/100\n",
      "214/214 [==============================] - 2s 9ms/step - loss: 1.3417e-04\n",
      "Epoch 8/100\n",
      "214/214 [==============================] - 2s 9ms/step - loss: 1.1100e-04\n",
      "Epoch 9/100\n",
      "214/214 [==============================] - 2s 9ms/step - loss: 8.9975e-05\n",
      "Epoch 10/100\n",
      "214/214 [==============================] - 2s 10ms/step - loss: 7.4381e-05\n",
      "Epoch 11/100\n",
      "214/214 [==============================] - 2s 9ms/step - loss: 6.7274e-05\n",
      "Epoch 12/100\n",
      "214/214 [==============================] - 2s 9ms/step - loss: 6.5408e-05\n",
      "Epoch 13/100\n",
      "214/214 [==============================] - 2s 10ms/step - loss: 6.7420e-05\n",
      "Epoch 14/100\n",
      "214/214 [==============================] - 2s 9ms/step - loss: 6.4882e-05\n",
      "Epoch 15/100\n",
      "214/214 [==============================] - 2s 9ms/step - loss: 6.2511e-05\n",
      "Epoch 16/100\n",
      "214/214 [==============================] - 2s 9ms/step - loss: 6.0542e-05\n",
      "Epoch 17/100\n",
      "214/214 [==============================] - 2s 9ms/step - loss: 5.9112e-05\n",
      "Epoch 18/100\n",
      "214/214 [==============================] - 2s 9ms/step - loss: 6.1127e-05\n",
      "Epoch 19/100\n",
      "214/214 [==============================] - 2s 9ms/step - loss: 6.0399e-05\n",
      "Epoch 20/100\n",
      "214/214 [==============================] - 2s 9ms/step - loss: 5.9085e-05\n",
      "Epoch 21/100\n",
      "214/214 [==============================] - 2s 10ms/step - loss: 5.5380e-05\n",
      "Epoch 22/100\n",
      "214/214 [==============================] - 2s 10ms/step - loss: 5.6562e-05\n",
      "Epoch 23/100\n",
      "214/214 [==============================] - 2s 9ms/step - loss: 5.6247e-05\n",
      "Epoch 24/100\n",
      "214/214 [==============================] - 2s 9ms/step - loss: 5.6879e-05\n",
      "Epoch 25/100\n",
      "214/214 [==============================] - 2s 9ms/step - loss: 5.5746e-05\n",
      "Epoch 26/100\n",
      "214/214 [==============================] - 2s 10ms/step - loss: 5.4579e-05\n",
      "Epoch 27/100\n",
      "214/214 [==============================] - 2s 9ms/step - loss: 5.0772e-05\n",
      "Epoch 28/100\n",
      "214/214 [==============================] - 2s 10ms/step - loss: 5.0537e-05\n",
      "Epoch 29/100\n",
      "214/214 [==============================] - 2s 9ms/step - loss: 4.9920e-05\n",
      "Epoch 30/100\n",
      "214/214 [==============================] - 2s 9ms/step - loss: 5.1350e-05\n",
      "Epoch 31/100\n",
      "214/214 [==============================] - 2s 10ms/step - loss: 4.6242e-05\n",
      "Epoch 32/100\n",
      "214/214 [==============================] - 2s 10ms/step - loss: 4.9357e-05\n",
      "Epoch 33/100\n",
      "214/214 [==============================] - 2s 9ms/step - loss: 4.4583e-05\n",
      "Epoch 34/100\n",
      "214/214 [==============================] - 1s 7ms/step - loss: 4.1975e-05\n",
      "Epoch 35/100\n",
      "214/214 [==============================] - 1s 6ms/step - loss: 4.6479e-05\n",
      "Epoch 36/100\n",
      "214/214 [==============================] - 1s 6ms/step - loss: 4.2098e-05\n",
      "Epoch 37/100\n",
      "214/214 [==============================] - 1s 6ms/step - loss: 4.0945e-05\n",
      "Epoch 38/100\n",
      "214/214 [==============================] - 1s 6ms/step - loss: 4.0640e-05\n",
      "Epoch 39/100\n",
      "214/214 [==============================] - 1s 6ms/step - loss: 3.9868e-05\n",
      "Epoch 40/100\n",
      "214/214 [==============================] - 1s 7ms/step - loss: 4.0405e-05\n",
      "Epoch 41/100\n",
      "214/214 [==============================] - 1s 6ms/step - loss: 3.9218e-05\n",
      "Epoch 42/100\n",
      "214/214 [==============================] - 1s 7ms/step - loss: 3.7323e-05\n",
      "Epoch 43/100\n",
      "214/214 [==============================] - 1s 7ms/step - loss: 3.9202e-05\n",
      "Epoch 44/100\n",
      "214/214 [==============================] - 2s 8ms/step - loss: 3.7535e-05\n",
      "Epoch 45/100\n",
      "214/214 [==============================] - 1s 7ms/step - loss: 3.7630e-05\n",
      "Epoch 46/100\n",
      "214/214 [==============================] - 2s 8ms/step - loss: 3.4334e-05\n",
      "Epoch 47/100\n",
      "214/214 [==============================] - 2s 8ms/step - loss: 3.3591e-05\n",
      "Epoch 48/100\n",
      "214/214 [==============================] - 2s 8ms/step - loss: 3.3923e-05\n",
      "Epoch 49/100\n",
      "214/214 [==============================] - 1s 7ms/step - loss: 3.3224e-05\n",
      "Epoch 50/100\n",
      "214/214 [==============================] - 2s 8ms/step - loss: 3.3520e-05\n",
      "Epoch 51/100\n",
      "214/214 [==============================] - 2s 8ms/step - loss: 3.4188e-05\n",
      "Epoch 52/100\n",
      "214/214 [==============================] - 1s 6ms/step - loss: 3.4661e-05\n",
      "Epoch 53/100\n",
      "214/214 [==============================] - 2s 8ms/step - loss: 3.3272e-05\n",
      "Epoch 54/100\n",
      "214/214 [==============================] - 2s 9ms/step - loss: 3.2751e-05\n",
      "Epoch 55/100\n",
      "214/214 [==============================] - 2s 10ms/step - loss: 3.2999e-05\n",
      "Epoch 56/100\n",
      "214/214 [==============================] - 2s 10ms/step - loss: 3.2639e-05\n",
      "Epoch 57/100\n",
      "214/214 [==============================] - 2s 7ms/step - loss: 3.4217e-05\n",
      "Epoch 58/100\n",
      "214/214 [==============================] - 2s 8ms/step - loss: 2.9791e-05\n",
      "Epoch 59/100\n",
      "214/214 [==============================] - 2s 7ms/step - loss: 2.9041e-05\n",
      "Epoch 60/100\n",
      "214/214 [==============================] - 2s 7ms/step - loss: 3.0830e-05\n",
      "Epoch 61/100\n",
      "214/214 [==============================] - 2s 7ms/step - loss: 3.1784e-05\n",
      "Epoch 62/100\n",
      "214/214 [==============================] - 2s 9ms/step - loss: 3.0825e-05\n",
      "Epoch 63/100\n",
      "214/214 [==============================] - 2s 9ms/step - loss: 3.0509e-05\n",
      "Epoch 64/100\n",
      "214/214 [==============================] - 2s 9ms/step - loss: 3.0932e-05\n",
      "Epoch 65/100\n",
      "214/214 [==============================] - 2s 9ms/step - loss: 2.8701e-05\n",
      "Epoch 66/100\n",
      "214/214 [==============================] - 1s 7ms/step - loss: 2.8602e-05\n",
      "Epoch 67/100\n",
      "214/214 [==============================] - 1s 6ms/step - loss: 3.2132e-05\n",
      "Epoch 68/100\n",
      "214/214 [==============================] - 2s 7ms/step - loss: 3.0739e-05\n",
      "Epoch 69/100\n",
      "214/214 [==============================] - 2s 8ms/step - loss: 2.9591e-05\n",
      "Epoch 70/100\n",
      "214/214 [==============================] - 2s 7ms/step - loss: 2.6914e-05\n",
      "Epoch 71/100\n",
      "214/214 [==============================] - 1s 7ms/step - loss: 2.6195e-05\n",
      "Epoch 72/100\n",
      "214/214 [==============================] - 1s 6ms/step - loss: 2.7393e-05\n",
      "Epoch 73/100\n",
      "214/214 [==============================] - 1s 7ms/step - loss: 2.9376e-05\n",
      "Epoch 74/100\n",
      "214/214 [==============================] - 2s 7ms/step - loss: 2.9509e-05\n",
      "Epoch 75/100\n",
      "214/214 [==============================] - 1s 6ms/step - loss: 2.9629e-05\n",
      "Epoch 76/100\n",
      "214/214 [==============================] - 2s 8ms/step - loss: 2.7459e-05\n",
      "Epoch 77/100\n",
      "214/214 [==============================] - 2s 8ms/step - loss: 2.8219e-05\n",
      "Epoch 78/100\n",
      "214/214 [==============================] - 2s 8ms/step - loss: 2.8205e-05\n",
      "Epoch 79/100\n",
      "214/214 [==============================] - 2s 8ms/step - loss: 2.9623e-05\n",
      "Epoch 80/100\n",
      "214/214 [==============================] - 2s 7ms/step - loss: 2.7732e-05\n",
      "Epoch 81/100\n",
      "214/214 [==============================] - 2s 7ms/step - loss: 2.7751e-05\n",
      "Epoch 82/100\n",
      "214/214 [==============================] - 1s 7ms/step - loss: 2.8541e-05\n",
      "Epoch 83/100\n",
      "214/214 [==============================] - 2s 7ms/step - loss: 2.8360e-05\n",
      "Epoch 84/100\n",
      "214/214 [==============================] - 2s 7ms/step - loss: 2.6200e-05\n",
      "Epoch 85/100\n",
      "214/214 [==============================] - 2s 7ms/step - loss: 2.6306e-05\n",
      "Epoch 86/100\n",
      "214/214 [==============================] - 1s 7ms/step - loss: 2.7276e-05\n",
      "Epoch 87/100\n",
      "214/214 [==============================] - 2s 8ms/step - loss: 2.9694e-05\n",
      "Epoch 88/100\n",
      "214/214 [==============================] - 2s 7ms/step - loss: 2.8576e-05\n",
      "Epoch 89/100\n",
      "214/214 [==============================] - 2s 7ms/step - loss: 2.7102e-05\n",
      "Epoch 90/100\n",
      "214/214 [==============================] - 2s 8ms/step - loss: 2.5370e-05\n",
      "Epoch 91/100\n",
      "214/214 [==============================] - 1s 7ms/step - loss: 2.7408e-05\n",
      "Epoch 92/100\n",
      "214/214 [==============================] - 2s 7ms/step - loss: 2.6433e-05\n",
      "Epoch 93/100\n",
      "214/214 [==============================] - 2s 8ms/step - loss: 2.6939e-05\n",
      "Epoch 94/100\n",
      "214/214 [==============================] - 1s 7ms/step - loss: 2.5701e-05\n",
      "Epoch 95/100\n"
     ]
    },
    {
     "name": "stdout",
     "output_type": "stream",
     "text": [
      "214/214 [==============================] - 1s 6ms/step - loss: 2.9026e-05\n",
      "Epoch 96/100\n",
      "214/214 [==============================] - 1s 6ms/step - loss: 2.8053e-05\n",
      "Epoch 97/100\n",
      "214/214 [==============================] - 1s 6ms/step - loss: 2.8199e-05\n",
      "Epoch 98/100\n",
      "214/214 [==============================] - 2s 7ms/step - loss: 2.6064e-05\n",
      "Epoch 99/100\n",
      "214/214 [==============================] - 2s 8ms/step - loss: 2.8280e-05\n",
      "Epoch 100/100\n",
      "214/214 [==============================] - 2s 9ms/step - loss: 2.6890e-05\n"
     ]
    },
    {
     "data": {
      "text/plain": [
       "<keras.callbacks.History at 0x269b4236e00>"
      ]
     },
     "execution_count": 17,
     "metadata": {},
     "output_type": "execute_result"
    }
   ],
   "source": [
    "model = Sequential()\n",
    "model.add(Bidirectional(LSTM(X_train.shape[1],return_sequences=False), input_shape=(X_train.shape[1],1)))\n",
    "model.add(Dense(X_train.shape[1]))\n",
    "model.add(Dense(y_train.shape[1], activation='tanh'))\n",
    "model.compile(optimizer = 'adam', loss = 'mean_squared_error')\n",
    "model.fit(X_train, y_train, batch_size = 50, epochs = 100)"
   ]
  },
  {
   "cell_type": "code",
   "execution_count": 18,
   "id": "c2bd55c2",
   "metadata": {},
   "outputs": [
    {
     "name": "stdout",
     "output_type": "stream",
     "text": [
      "(None, 10, 1)\n",
      "(None, 20)\n",
      "(None, 10)\n"
     ]
    },
    {
     "data": {
      "text/plain": [
       "2"
      ]
     },
     "execution_count": 18,
     "metadata": {},
     "output_type": "execute_result"
    }
   ],
   "source": [
    "print(model.layers[0].input_shape)\n",
    "print(model.layers[1].input_shape)\n",
    "print(model.layers[2].input_shape)\n",
    "num_hidden_layers = len(model.layers) - 1\n",
    "num_hidden_layers"
   ]
  },
  {
   "cell_type": "code",
   "execution_count": 19,
   "id": "3fd3c5cb",
   "metadata": {},
   "outputs": [
    {
     "name": "stdout",
     "output_type": "stream",
     "text": [
      "Layer 0 weights shape: [(1, 40), (10, 40), (40,), (1, 40), (10, 40), (40,)]\n",
      "Layer 1 weights shape: [(20, 10), (10,)]\n",
      "Layer 2 weights shape: [(10, 1), (1,)]\n"
     ]
    }
   ],
   "source": [
    "for i, layer in enumerate(model.layers):\n",
    "    weights = layer.get_weights()\n",
    "    print(\"Layer {} weights shape: {}\".format(i, [w.shape for w in weights]))"
   ]
  },
  {
   "cell_type": "code",
   "execution_count": null,
   "id": "54f41296",
   "metadata": {},
   "outputs": [],
   "source": []
  },
  {
   "cell_type": "code",
   "execution_count": 20,
   "id": "259967cc",
   "metadata": {},
   "outputs": [
    {
     "name": "stdout",
     "output_type": "stream",
     "text": [
      "Model: \"sequential\"\n",
      "_________________________________________________________________\n",
      " Layer (type)                Output Shape              Param #   \n",
      "=================================================================\n",
      " bidirectional (Bidirectiona  (None, 20)               960       \n",
      " l)                                                              \n",
      "                                                                 \n",
      " dense (Dense)               (None, 10)                210       \n",
      "                                                                 \n",
      " dense_1 (Dense)             (None, 1)                 11        \n",
      "                                                                 \n",
      "=================================================================\n",
      "Total params: 1,181\n",
      "Trainable params: 1,181\n",
      "Non-trainable params: 0\n",
      "_________________________________________________________________\n"
     ]
    }
   ],
   "source": [
    "model.summary()"
   ]
  },
  {
   "cell_type": "code",
   "execution_count": 21,
   "id": "d4594c0a",
   "metadata": {},
   "outputs": [
    {
     "name": "stdout",
     "output_type": "stream",
     "text": [
      "1/1 [==============================] - 1s 728ms/step\n",
      "original\n",
      "[[172.69000244]\n",
      " [175.05000305]\n",
      " [175.16000366]\n",
      " [174.19999695]\n",
      " [171.55999756]]\n",
      "predicted\n",
      "[[172.60275]\n",
      " [172.77335]\n",
      " [173.59898]\n",
      " [173.892  ]\n",
      " [173.7495 ]]\n"
     ]
    }
   ],
   "source": [
    "predicted_Price = model.predict(X_test)\n",
    "predicted_Price = DataScaler.inverse_transform(predicted_Price)\n",
    "orig=y_test\n",
    "orig=DataScaler.inverse_transform(y_test)\n",
    "print(\"original\")\n",
    "print(orig)\n",
    "print('predicted')\n",
    "print(predicted_Price)"
   ]
  },
  {
   "cell_type": "code",
   "execution_count": 22,
   "id": "619d61c6",
   "metadata": {},
   "outputs": [
    {
     "data": {
      "text/plain": [
       "1.5821714081314144"
      ]
     },
     "execution_count": 22,
     "metadata": {},
     "output_type": "execute_result"
    }
   ],
   "source": [
    "from sklearn.metrics import mean_squared_error\n",
    "rmse = np.sqrt(mean_squared_error(orig, predicted_Price))\n",
    "rmse"
   ]
  },
  {
   "cell_type": "code",
   "execution_count": 23,
   "id": "9dea515e",
   "metadata": {},
   "outputs": [
    {
     "name": "stdout",
     "output_type": "stream",
     "text": [
      "[*********************100%***********************]  1 of 1 completed\n"
     ]
    }
   ],
   "source": [
    "\n",
    "data_d= yf.download('AAPL',period=\"max\",interval=\"1d\")\n",
    "data_d=data_d[['Close']].values"
   ]
  },
  {
   "cell_type": "code",
   "execution_count": 25,
   "id": "a429a586",
   "metadata": {},
   "outputs": [
    {
     "name": "stdout",
     "output_type": "stream",
     "text": [
      "1/1 [==============================] - 0s 16ms/step\n",
      "[[172.92336]]\n"
     ]
    }
   ],
   "source": [
    "Last10Days=data_d[-10:]\n",
    "Last10Days=DataScaler.transform(Last10Days.reshape(-1,1))\n",
    "NumSamples=1\n",
    "TimeSteps=10\n",
    "NumFeatures=1\n",
    "Last10Days=Last10Days.reshape(NumSamples,TimeSteps,NumFeatures)\n",
    "predicted = model.predict(Last10Days)\n",
    "predicted = DataScaler.inverse_transform(predicted)\n",
    "print(predicted)"
   ]
  },
  {
   "cell_type": "code",
   "execution_count": null,
   "id": "f6db1d7a",
   "metadata": {},
   "outputs": [],
   "source": []
  },
  {
   "cell_type": "code",
   "execution_count": null,
   "id": "0b56062e",
   "metadata": {},
   "outputs": [],
   "source": []
  }
 ],
 "metadata": {
  "kernelspec": {
   "display_name": "Python 3 (ipykernel)",
   "language": "python",
   "name": "python3"
  },
  "language_info": {
   "codemirror_mode": {
    "name": "ipython",
    "version": 3
   },
   "file_extension": ".py",
   "mimetype": "text/x-python",
   "name": "python",
   "nbconvert_exporter": "python",
   "pygments_lexer": "ipython3",
   "version": "3.10.9"
  }
 },
 "nbformat": 4,
 "nbformat_minor": 5
}
